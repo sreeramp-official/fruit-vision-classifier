{
 "cells": [
  {
   "cell_type": "markdown",
   "metadata": {},
   "source": [
    "# Fruit Classifier Model Training\n",
    "\n",
    "This notebook trains a machine learning model to classify different types of fruits based on their images. It begins by loading fruit images from a specified directory, extracting the mean RGB color values from each image as features, and associating these features with the corresponding fruit label. Using this data, the notebook trains a Random Forest Classifier to recognize fruits, then saves the trained model as `fruit_classifier_model.pkl` for future use, allowing for quick fruit recognition in applications without needing to retrain the model each time."
   ]
  },
  {
   "cell_type": "code",
   "execution_count": 11,
   "metadata": {},
   "outputs": [],
   "source": [
    "# Importing libraries\n",
    "\n",
    "import numpy as np  # We are bringing in a library called \"numpy,\" which helps with numbers and large lists.\n",
    "import os  # This library helps us look through folders and files on our computer.\n",
    "import cv2  # We’re using this library to work with images, like reading and changing colors.\n",
    "import joblib  # This library helps us save our trained model so we can use it later without training again.\n",
    "from sklearn.ensemble import RandomForestClassifier  # We are importing a tool to make decisions, like guessing which fruit is in a picture.\n",
    "from sklearn.model_selection import train_test_split  # This helps us split data into training and testing groups.\n",
    "from sklearn.metrics import accuracy_score  # This will help us check how well our model is performing."
   ]
  },
  {
   "cell_type": "code",
   "execution_count": 7,
   "metadata": {},
   "outputs": [],
   "source": [
    "# Directory containing the fruit images\n",
    "basepath = '../data'  # Here we tell the code where to look for our fruit images on the computer."
   ]
  },
  {
   "cell_type": "code",
   "execution_count": 8,
   "metadata": {},
   "outputs": [],
   "source": [
    "# Function to extract features from images (mean RGB)\n",
    "def extract_features_from_images(basepath):  # We are creating a function to get important information from each image.\n",
    "    data = []  # This list will hold the information (features) from each image.\n",
    "    labels = []  # This list will hold the name of the fruit for each image.\n",
    "    \n",
    "    for folder in os.scandir(basepath):  # We go through each folder in the main folder.\n",
    "        if folder.is_dir():  # We check if this is a folder.\n",
    "            fruit_name = folder.name  # We get the folder's name, which tells us the fruit's name.\n",
    "            for file in os.scandir(folder.path):  # Now, we go through each file in this fruit’s folder.\n",
    "                if file.is_file() and file.name.lower().endswith(('.png', '.jpg', '.jpeg')):  \n",
    "                    # We check if the file is a picture by its name ending (like .jpg).\n",
    "                    \n",
    "                    # Read image\n",
    "                    img = cv2.imread(file.path)  # Open the picture and read it as a computer sees it.\n",
    "                    img = cv2.cvtColor(img, cv2.COLOR_BGR2RGB)  # Change the colors from BGR (Blue-Green-Red) to RGB (Red-Green-Blue) for consistency.\n",
    "                    \n",
    "                    # Extract mean RGB values as features\n",
    "                    features = np.mean(img, axis=(0, 1)).tolist()  # We find the average color values (R, G, B) across the whole image.\n",
    "                    data.append(features)  # Add this color information to our list.\n",
    "                    labels.append(fruit_name)  # Add the fruit name to our labels list.\n",
    "    \n",
    "    return np.array(data), np.array(labels)  # Finally, we return the lists of color data and labels as arrays."
   ]
  },
  {
   "cell_type": "code",
   "execution_count": 12,
   "metadata": {},
   "outputs": [],
   "source": [
    "def train_and_save_model():\n",
    "    # Extract features and labels from images\n",
    "    data, labels = extract_features_from_images(basepath)\n",
    "    \n",
    "    # Split data into training and testing sets\n",
    "    X_train, X_test, y_train, y_test = train_test_split(data, labels, test_size=0.2, random_state=42)\n",
    "    \n",
    "    # Train the RandomForest model\n",
    "    model = RandomForestClassifier(n_estimators=100, random_state=42)\n",
    "    model.fit(X_train, y_train)  # Train the model with the training data\n",
    "    \n",
    "    # Save the trained model\n",
    "    joblib.dump(model, 'fruit_classifier_model.pkl')\n",
    "    print(\"Model training complete and saved as 'fruit_classifier_model.pkl'.\")\n",
    "    \n",
    "    # Predict the labels for the test data\n",
    "    y_pred = model.predict(X_test)  # Get the predicted labels for the test data\n",
    "    \n",
    "    # Calculate the accuracy of the model\n",
    "    accuracy = accuracy_score(y_test, y_pred)  # Compare the predicted labels with the true labels\n",
    "    print(f\"Model accuracy on the test data: {accuracy * 100:.2f}%\")  # Display the accuracy as a percentage\n"
   ]
  },
  {
   "cell_type": "code",
   "execution_count": 16,
   "metadata": {},
   "outputs": [
    {
     "name": "stderr",
     "output_type": "stream",
     "text": [
      "libpng warning: iCCP: known incorrect sRGB profile\n"
     ]
    },
    {
     "name": "stdout",
     "output_type": "stream",
     "text": [
      "Model training complete and saved as 'fruit_classifier_model.pkl'.\n",
      "Model accuracy on the test data: 75.00%\n"
     ]
    }
   ],
   "source": [
    "# Train and save the model\n",
    "train_and_save_model()  # Finally, we run our function to start the training and saving process."
   ]
  }
 ],
 "metadata": {
  "kernelspec": {
   "display_name": "Python 3",
   "language": "python",
   "name": "python3"
  },
  "language_info": {
   "codemirror_mode": {
    "name": "ipython",
    "version": 3
   },
   "file_extension": ".py",
   "mimetype": "text/x-python",
   "name": "python",
   "nbconvert_exporter": "python",
   "pygments_lexer": "ipython3",
   "version": "3.13.0"
  }
 },
 "nbformat": 4,
 "nbformat_minor": 2
}
